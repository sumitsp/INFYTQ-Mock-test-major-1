{
 "cells": [
  {
   "cell_type": "markdown",
   "id": "7800c661",
   "metadata": {},
   "source": [
    "##  Question 1\n",
    "Given an array of integers nums and an integer target, return indices of the two numbers such that they add up to target.\n",
    "You may assume that each input would have exactly one solution, and you may not use the same element twice."
   ]
  },
  {
   "cell_type": "code",
   "execution_count": 1,
   "id": "aa8e7450",
   "metadata": {},
   "outputs": [
    {
     "name": "stdout",
     "output_type": "stream",
     "text": [
      "[1, 0]\n",
      "[2, 1]\n",
      "[1, 0]\n"
     ]
    }
   ],
   "source": [
    "#Example 1\n",
    "nums = [2,7,11,15]\n",
    "target = 9\n",
    "\n",
    "def findNum(nums, target):\n",
    "    d = {}\n",
    "    for i, num in enumerate(nums):\n",
    "        if target - num in d:\n",
    "            return [i, d[target-num]] \n",
    "        else:\n",
    "            d[num] = i\n",
    "print (findNum (nums, target))\n",
    "\n",
    "#Example 2\n",
    "nums =  [3,2,4] \n",
    "target = 6\n",
    "print (findNum (nums, target))\n",
    "\n",
    "# Example 3\n",
    "nums = [3,3] \n",
    "target = 6\n",
    "print (findNum (nums, target))\n",
    "\n"
   ]
  },
  {
   "cell_type": "markdown",
   "id": "e27131f0",
   "metadata": {},
   "source": [
    "## Question 2\n",
    "Given the names and grades for each student in a class of N students, store them in a nested list and print the name(s) of any student(s) having the second lowest grade.\n",
    "\n",
    "Note: If there are multiple students with the second lowest grade, order their names alphabetically and print each name on a new line.\n"
   ]
  },
  {
   "cell_type": "code",
   "execution_count": 1,
   "id": "269cbed1",
   "metadata": {},
   "outputs": [
    {
     "name": "stdout",
     "output_type": "stream",
     "text": [
      "5\n",
      "Harry\n",
      "37.21\n",
      "Berry\n",
      "37.21\n",
      "Tina\n",
      "41\n",
      "Akriti\n",
      "37.2\n",
      "Harsh\n",
      "39\n",
      "Berry\n",
      "Harry\n"
     ]
    }
   ],
   "source": [
    "marks = {}\n",
    "n = int(input())\n",
    "for x in range(n):\n",
    "    name = input()\n",
    "    mark = float(input())\n",
    "    \n",
    "    if mark in marks:\n",
    "        marks[mark].append(name)\n",
    "    else:\n",
    "        marks[mark] = [name]\n",
    "        \n",
    "all_marks = list(set(marks.keys()))\n",
    "all_marks.sort()\n",
    "names_ordered = marks[all_marks[1]]\n",
    "names_ordered.sort()\n",
    "\n",
    "for name in names_ordered:\n",
    "    print(name)"
   ]
  },
  {
   "cell_type": "code",
   "execution_count": null,
   "id": "4c37f2c4",
   "metadata": {},
   "outputs": [],
   "source": []
  }
 ],
 "metadata": {
  "kernelspec": {
   "display_name": "Python 3",
   "language": "python",
   "name": "python3"
  },
  "language_info": {
   "codemirror_mode": {
    "name": "ipython",
    "version": 3
   },
   "file_extension": ".py",
   "mimetype": "text/x-python",
   "name": "python",
   "nbconvert_exporter": "python",
   "pygments_lexer": "ipython3",
   "version": "3.8.8"
  }
 },
 "nbformat": 4,
 "nbformat_minor": 5
}
